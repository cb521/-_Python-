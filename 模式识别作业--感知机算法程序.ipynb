{
 "cells": [
  {
   "cell_type": "code",
   "execution_count": 10,
   "metadata": {},
   "outputs": [],
   "source": [
    "import numpy as np;\n",
    "import math;\n",
    "import os;\n"
   ]
  },
  {
   "cell_type": "code",
   "execution_count": 11,
   "metadata": {},
   "outputs": [],
   "source": [
    "def Perception(n1,n2,w1,w2):\n",
    "    w=np.array([0,0,0,0])[:,np.newaxis]\n",
    "    iter=input(\"请输入最大迭代次数\");\n",
    "    iter=int(iter)\n",
    "    l=input(\"请输入学习率\");\n",
    "    l=int(l);\n",
    "    k=0;\n",
    "    while k<iter:\n",
    "        for i in range(n1):\n",
    "            if w.T.dot(w1[i])>0:\n",
    "                w=w;\n",
    "            elif w.T.dot(w1[i])<=0:\n",
    "                w=w+l*w1[i];\n",
    "        for j in range(n2):\n",
    "            if w.T.dot(w2[j])>0:\n",
    "                w=w;\n",
    "            elif w.T.dot(w2[j])<=0:\n",
    "                w=w+l*w2[j];\n",
    "        k=k+1;\n",
    "        \n",
    "    return w;\n",
    "        "
   ]
  },
  {
   "cell_type": "code",
   "execution_count": 18,
   "metadata": {},
   "outputs": [
    {
     "name": "stdout",
     "output_type": "stream",
     "text": [
      "请输入一类的样本个数4\n",
      "请输入二类的样本个数4\n",
      "请输入一类x坐标0\n",
      "请输入一类y坐标0\n",
      "请输入一类z坐标0\n",
      "请输入一类x坐标1\n",
      "请输入一类y坐标0\n",
      "请输入一类z坐标0\n",
      "请输入一类x坐标1\n",
      "请输入一类y坐标0\n",
      "请输入一类z坐标1\n",
      "请输入一类x坐标1\n",
      "请输入一类y坐标1\n",
      "请输入一类z坐标0\n",
      "请输入二类x坐标0\n",
      "请输入二类y坐标0\n",
      "请输入二类z坐标1\n",
      "请输入二类x坐标0\n",
      "请输入二类y坐标1\n",
      "请输入二类z坐标1\n",
      "请输入二类x坐标0\n",
      "请输入二类y坐标1\n",
      "请输入二类z坐标0\n",
      "请输入二类x坐标1\n",
      "请输入二类y坐标1\n",
      "请输入二类z坐标1\n",
      "请输入最大迭代次数10\n",
      "请输入学习率1\n",
      "[[ 2]\n",
      " [-2]\n",
      " [-2]\n",
      " [ 1]]\n"
     ]
    }
   ],
   "source": [
    "if __name__==\"__main__\":\n",
    "    n1=input(\"请输入一类的样本个数\");\n",
    "    n1=int(n1);\n",
    "    n2=input(\"请输入二类的样本个数\");\n",
    "    n2=int(n2);\n",
    "    w1=[[] for _ in range(n1)];\n",
    "    w2=[[] for _ in range(n2)];\n",
    "    for i in range(n1):\n",
    "        x=input(\"请输入一类x坐标\");\n",
    "        x=int(x);\n",
    "        y=input(\"请输入一类y坐标\");\n",
    "        y=int(y);\n",
    "        z=input(\"请输入一类z坐标\");\n",
    "        z=int(z);\n",
    "        w1[i]=np.array([x,y,z,1])[:,np.newaxis]\n",
    "    for i in range(n1):\n",
    "        x=input(\"请输入二类x坐标\");\n",
    "        x=int(x);\n",
    "        y=input(\"请输入二类y坐标\");\n",
    "        y=int(y);\n",
    "        z=input(\"请输入二类z坐标\");\n",
    "        z=int(z);\n",
    "        w2[i]=(np.array([x,y,z,1])[:,np.newaxis])*(-1)\n",
    "    w=Perception(n1,n2,w1,w2);\n",
    "    print(\"判别函数为: {}*x1,{}*x2,{}*x3,{}*b\".format(w[0],w[1],w[2],w[3]))\n",
    "    "
   ]
  }
 ],
 "metadata": {
  "kernelspec": {
   "display_name": "Python 3",
   "language": "python",
   "name": "python3"
  },
  "language_info": {
   "codemirror_mode": {
    "name": "ipython",
    "version": 3
   },
   "file_extension": ".py",
   "mimetype": "text/x-python",
   "name": "python",
   "nbconvert_exporter": "python",
   "pygments_lexer": "ipython3",
   "version": "3.6.3"
  }
 },
 "nbformat": 4,
 "nbformat_minor": 2
}
